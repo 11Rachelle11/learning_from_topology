{
 "cells": [
  {
   "cell_type": "code",
   "execution_count": 14,
   "metadata": {},
   "outputs": [
    {
     "data": {
      "text/plain": [
       "<module 'my_datasets' from '/Users/rachellelang/Documents/College/Learning from Topology URS Research/my_datasets.py'>"
      ]
     },
     "execution_count": 14,
     "metadata": {},
     "output_type": "execute_result"
    }
   ],
   "source": [
    "# imports\n",
    "import torch\n",
    "from torch.utils.data import DataLoader\n",
    "from torch import nn\n",
    "\n",
    "# for built in datasets\n",
    "import torchvision\n",
    "from torchvision import transforms, datasets\n",
    "\n",
    "# import my_datasets\n",
    "# import importlib\n",
    "# importlib.reload(module=my_datasets)"
   ]
  },
  {
   "cell_type": "code",
   "execution_count": 16,
   "metadata": {},
   "outputs": [],
   "source": [
    "# variables\n",
    "D = 2 # dimensions\n",
    "POINTS = 100 # number of data points\n",
    "BATCH_SIZE = 10 # for stochastic gradient descent\n",
    "EPOCHS = 3 # not exactly sure what this is for yet"
   ]
  },
  {
   "cell_type": "code",
   "execution_count": 44,
   "metadata": {},
   "outputs": [],
   "source": [
    "# download MNIST data\n",
    "train = datasets.MNIST('', train=True, download=True, transform = transforms.Compose([transforms.ToTensor()]))\n",
    "test = datasets.MNIST('', train=False, download=True, transform = transforms.Compose([transforms.ToTensor()]))"
   ]
  },
  {
   "cell_type": "code",
   "execution_count": 46,
   "metadata": {},
   "outputs": [],
   "source": [
    "# now for the data loader\n",
    "# set = my_datasets.CircleDataset(POINTS)\n",
    "loader = DataLoader(train, batch_size=BATCH_SIZE, shuffle=True)\n",
    "test_loader = DataLoader(test, batch_size=BATCH_SIZE, shuffle=True)"
   ]
  },
  {
   "cell_type": "code",
   "execution_count": 40,
   "metadata": {},
   "outputs": [],
   "source": [
    "# nueral network class\n",
    "class NeuralNetwork(nn.Module):\n",
    "\n",
    "    def __init__(self, i, h, o): # where i is the input dimensions, h is neurons in the hidden layer, o is the number of categories\n",
    "        super().__init__()\n",
    "        # these are actually functions\n",
    "        self.layer1 = nn.Linear(i, h) # input, output\n",
    "        self.layer2 = nn.Linear(h, h)\n",
    "        self.layer3 = nn.Linear(h, o)\n",
    "\n",
    "    def forward(self, x):\n",
    "        # seems like linear would be doing the weights and biases and then relu is activation function\n",
    "        x = nn.functional.relu(self.layer1(x))\n",
    "        x = nn.functional.relu(self.layer2(x))\n",
    "        x = self.layer3(x)\n",
    "        # don't relu last layer because we do softmax instead which gives probability distribution\n",
    "        return nn.functional.log_softmax(x, dim=1) # dim is dimension that needs to sum to one (dim 0 is across batches)"
   ]
  },
  {
   "cell_type": "code",
   "execution_count": 41,
   "metadata": {},
   "outputs": [
    {
     "name": "stdout",
     "output_type": "stream",
     "text": [
      "tensor(0.0287, grad_fn=<NllLossBackward0>)\n",
      "tensor(0.0096, grad_fn=<NllLossBackward0>)\n",
      "tensor(0.0236, grad_fn=<NllLossBackward0>)\n"
     ]
    }
   ],
   "source": [
    "# implementing neural network\n",
    "\n",
    "net = NeuralNetwork(28*28, 64, 10)\n",
    "optimizer = torch.optim.Adam(net.parameters(), lr=0.001)\n",
    "\n",
    "for epoch in range(EPOCHS):\n",
    "    for batch in loader:\n",
    "        x, y = batch\n",
    "        net.zero_grad() # I don't really get why you need this\n",
    "        output = net(x.view(-1, 28*28)) # seems to work with dimensions but maybe it's not apparently calling net is same as calling forward?\n",
    "        loss = nn.functional.nll_loss(output, y) # the loss function for scalar values instead of one hot (vector with one 1 and rest 0s)\n",
    "        loss.backward() # magic\n",
    "        optimizer.step() # adjusts weights\n",
    "    print(loss)\n"
   ]
  },
  {
   "cell_type": "code",
   "execution_count": 47,
   "metadata": {},
   "outputs": [
    {
     "name": "stdout",
     "output_type": "stream",
     "text": [
      "Accuracy:  0.969\n"
     ]
    }
   ],
   "source": [
    "# evaluate the network\n",
    "\n",
    "correct = 0\n",
    "total = 0\n",
    "\n",
    "with torch.no_grad(): # tells pytorch your not calculating gradients so reduces memory consumption\n",
    "    for data in test_loader:\n",
    "        x, y = data\n",
    "        output = net(x.view(-1, 784))\n",
    "        for idx, i in enumerate(output): # enumerate lets you go over something by index and by actual object\n",
    "            if torch.argmax(i) == y[idx]: # torch.argmax returns the index of the max value in the tensor\n",
    "                correct += 1\n",
    "            total += 1\n",
    "\n",
    "print('Accuracy: ', round(correct/total, 3))\n",
    "\n"
   ]
  },
  {
   "cell_type": "markdown",
   "metadata": {},
   "source": [
    "To Do\n",
    "• cross entropy vs nll_loss\n",
    "• use gpus\n",
    "• test on real datasets first, then test on manifolds\n",
    "• look at math lecture slides\n",
    "• probably read Chicago paper - look at number of layers they use and see if Google Colab can handle it\n",
    "• read ising model, renormalization group on wikipedia"
   ]
  }
 ],
 "metadata": {
  "kernelspec": {
   "display_name": "Python 3.11.2 64-bit",
   "language": "python",
   "name": "python3"
  },
  "language_info": {
   "codemirror_mode": {
    "name": "ipython",
    "version": 3
   },
   "file_extension": ".py",
   "mimetype": "text/x-python",
   "name": "python",
   "nbconvert_exporter": "python",
   "pygments_lexer": "ipython3",
   "version": "3.11.2"
  },
  "orig_nbformat": 4,
  "vscode": {
   "interpreter": {
    "hash": "949777d72b0d2535278d3dc13498b2535136f6dfe0678499012e853ee9abcab1"
   }
  }
 },
 "nbformat": 4,
 "nbformat_minor": 2
}
